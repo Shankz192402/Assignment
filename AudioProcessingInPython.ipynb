{
  "nbformat": 4,
  "nbformat_minor": 0,
  "metadata": {
    "colab": {
      "name": "AudioProcessingInPython.ipynb",
      "version": "0.3.2",
      "provenance": [],
      "collapsed_sections": []
    },
    "kernelspec": {
      "name": "python3",
      "display_name": "Python 3"
    }
  },
  "cells": [
    {
      "metadata": {
        "id": "PibG73bkM70X",
        "colab_type": "text"
      },
      "cell_type": "markdown",
      "source": [
        "Download the ThinkDSP library\n"
      ]
    },
    {
      "metadata": {
        "id": "AEvn0yZKNCV4",
        "colab_type": "code",
        "colab": {}
      },
      "cell_type": "code",
      "source": [
        "!git clone https://github.com/AllenDowney/ThinkDSP.git "
      ],
      "execution_count": 0,
      "outputs": []
    },
    {
      "metadata": {
        "id": "W874mNqiNgzi",
        "colab_type": "text"
      },
      "cell_type": "markdown",
      "source": [
        "*************************************************************************************************************\n",
        "This is how it is possible to generate a sin wave.  "
      ]
    },
    {
      "metadata": {
        "id": "zWgVpXThNqVD",
        "colab_type": "code",
        "colab": {}
      },
      "cell_type": "code",
      "source": [
        "# This file shows how to generate a sine wave using the ThinkDSP library.\n",
        "import sys\n",
        "sys.path.insert(0, 'ThinkDSP/code/') \n",
        "import thinkdsp\n",
        "import matplotlib.pyplot as pyplot\n",
        "import IPython\n",
        "\n",
        "# Generate wave\n",
        "sin = thinkdsp.SinSignal(freq=400, amp=0.5) # Where freq is the frequency and amp is the amplitude of the sine wave\n",
        "wave = sin.make_wave(duration=2, start=0, framerate=44100) # Turn the sin wave into an audio wave\n",
        "\n",
        "# Plot wave\n",
        "period = sin.period\n",
        "segment = wave.segment(start=0, duration=period*3)\n",
        "segment.plot()\n",
        "pyplot.show()\n",
        "\n",
        "# Play wave\n",
        "wave.play()\n",
        "IPython.display.Audio('sound.wav') # This is required on Google Colab due to compatibility issues\n"
      ],
      "execution_count": 0,
      "outputs": []
    },
    {
      "metadata": {
        "id": "Bi0tNL-zOt8o",
        "colab_type": "text"
      },
      "cell_type": "markdown",
      "source": [
        "Challenges:\n",
        "> Can you change it to a higher pitch? What about a lower pitch?  \n",
        "> Can you increase the lenth of the sound?  \n",
        "\n",
        "Consider this:\n",
        "> What do you think will happen if multiple sin waves are played at the same time?\n",
        "\n",
        "*************************************************************************************************************\n",
        "\n",
        "\n",
        "This is how 2 sin waves can be added together.\n",
        "Look at the graph and see how to output wave changes when 2 sounds are added together"
      ]
    },
    {
      "metadata": {
        "id": "oI_G5zEXPLWr",
        "colab_type": "code",
        "colab": {}
      },
      "cell_type": "code",
      "source": [
        "import sys\n",
        "sys.path.insert(0, 'ThinkDSP/code/') \n",
        "import thinkdsp\n",
        "import matplotlib.pyplot as pyplot\n",
        "import IPython\n",
        "\n",
        "# Generate wave\n",
        "sin1 = thinkdsp.SinSignal(freq=400, amp=0.5)\n",
        "sin2 = thinkdsp.SinSignal(freq=800, amp=0.3)\n",
        "mix = sin1 + sin2 # Notice here how 2 waves can be added together\n",
        "wave = mix.make_wave(duration=2, start=0, framerate=44100)\n",
        "\n",
        "# Plot wave\n",
        "period = mix.period\n",
        "segment = wave.segment(start=0, duration=period*3)\n",
        "segment.plot()\n",
        "pyplot.show()\n",
        "\n",
        "# Play wave\n",
        "wave.play()\n",
        "IPython.display.Audio('sound.wav')"
      ],
      "execution_count": 0,
      "outputs": []
    },
    {
      "metadata": {
        "id": "681KWR-fPu7F",
        "colab_type": "text"
      },
      "cell_type": "markdown",
      "source": [
        "Challenge:\n",
        "> Can you add 3 waves together, what about 4, or 5?\n",
        "\n",
        "Consider this:\n",
        "> Do you think  there is a better way to graph this data?\n",
        "\n",
        "*************************************************************************************************************\n",
        "Now we will take the previously generated sound and look at it in frequency domain.  This is where rather than seeing what the wave looks like we see the frequencies that make up the wave"
      ]
    },
    {
      "metadata": {
        "id": "L6aOb6oOQGJF",
        "colab_type": "code",
        "colab": {}
      },
      "cell_type": "code",
      "source": [
        "import sys\n",
        "sys.path.insert(0, 'ThinkDSP/code/') \n",
        "import thinkdsp\n",
        "import matplotlib.pyplot as pyplot\n",
        "import IPython\n",
        "\n",
        "# Generate wave\n",
        "sin1 = thinkdsp.SinSignal(freq=400, amp=0.5)\n",
        "sin2 = thinkdsp.SinSignal(freq=800, amp=0.3)\n",
        "mix = sin1 + sin2 # Notice here how 2 waves can be added together\n",
        "wave = mix.make_wave(duration=2, start=0, framerate=44100)\n",
        "\n",
        "# Plot spectrum of wave\n",
        "spectrum = wave.make_spectrum()\n",
        "spectrum.plot()\n",
        "pyplot.show()\n",
        "\n",
        "# Play wave\n",
        "wave.play()\n",
        "IPython.display.Audio('sound.wav')"
      ],
      "execution_count": 0,
      "outputs": []
    },
    {
      "metadata": {
        "id": "Oo1NKloPQUi0",
        "colab_type": "text"
      },
      "cell_type": "markdown",
      "source": [
        "Challenge: \n",
        "> Can you increase the higher frequencies to have a higher amplitude?  \n",
        "> What happens when you add more waves to the mix?  \n",
        "\n",
        "Consider this:\n",
        "> What do you think a frequency domain plot of a song would look like\n",
        "\n",
        "*************************************************************************************************************"
      ]
    },
    {
      "metadata": {
        "id": "0sVix-L0V6vW",
        "colab_type": "code",
        "colab": {}
      },
      "cell_type": "code",
      "source": [
        "!git clone https://github.com/Tyler-Hilbert/AudioProcessingInPythonWorkshop.git "
      ],
      "execution_count": 0,
      "outputs": []
    },
    {
      "metadata": {
        "id": "-tHvolBlT5ET",
        "colab_type": "code",
        "colab": {}
      },
      "cell_type": "code",
      "source": [
        "import sys\n",
        "sys.path.insert(0, 'ThinkDSP/code/') \n",
        "import thinkdsp\n",
        "import matplotlib.pyplot as pyplot\n",
        "import IPython\n",
        "\n",
        "# Read in audio file\n",
        "# FIXME - will this work for non wav files\n",
        "wave = thinkdsp.read_wave('AudioProcessingInPythonWorkshop/test.wav')\n",
        "\n",
        "# Grab first 10 seconds of audio (you can ignore me)\n",
        "clipLength = 10 # in seconds\n",
        "index = 0\n",
        "while (index < wave.ts.size and wave.ts[index] < clipLength):\n",
        "\tindex += 1\n",
        "# Remove extras\n",
        "wave.ts = wave.ts[:index]\n",
        "wave.ys = wave.ys[:index]\n",
        "\n",
        "# Plot spectrum of audio file\n",
        "spectrum = wave.make_spectrum()\n",
        "spectrum.plot()\n",
        "pyplot.show()\n",
        "\n",
        "# Play audio file\n",
        "wave.play()\n",
        "IPython.display.Audio('sound.wav')"
      ],
      "execution_count": 0,
      "outputs": []
    },
    {
      "metadata": {
        "id": "fc1u2GneTtLL",
        "colab_type": "text"
      },
      "cell_type": "markdown",
      "source": [
        "*************************************************************************************************************\n",
        "\n",
        "Now we will apply a filter to the sound.  A low pass filter will remove high frequencies while a high pass filter will remove low frequencies.  Think of a low pass filter as increasing bass and a high pass filter as increasing treble.\n",
        "\n",
        "This piece of code will apply a low pass filter.  Listen to how it sounds different, then compare how the frequencies changed from the last graph.\n",
        "\n",
        "\n",
        "\n"
      ]
    },
    {
      "metadata": {
        "id": "1XhMLE71XFD4",
        "colab_type": "code",
        "colab": {}
      },
      "cell_type": "code",
      "source": [
        "import sys\n",
        "sys.path.insert(0, 'ThinkDSP/code/') \n",
        "import thinkdsp\n",
        "import matplotlib.pyplot as pyplot\n",
        "import IPython\n",
        "\n",
        "# Read in audio file\n",
        "wave = thinkdsp.read_wave('AudioProcessingInPythonWorkshop/test.wav')\n",
        "\n",
        "# Grab first 10 seconds of audio (you can ignore me)\n",
        "clipLength = 10 # in seconds\n",
        "index = 0\n",
        "while (index < wave.ts.size and wave.ts[index] < clipLength):\n",
        "\tindex += 1\n",
        "# Remove extras\n",
        "wave.ts = wave.ts[:index]\n",
        "wave.ys = wave.ys[:index]\n",
        "\n",
        "\n",
        "# Filter\n",
        "spectrum = wave.make_spectrum()\n",
        "spectrum.low_pass(cutoff = 500, factor = .1)\n",
        "#spectrum.high_pass(cutoff = 1500, factor = .1) # FIXME - Change back to low pass filter\n",
        "filteredWave = spectrum.make_wave()\n",
        "\n",
        "# Plot spectrum of audio file\n",
        "spectrum = filteredWave.make_spectrum()\n",
        "spectrum.plot()\n",
        "pyplot.show()\n",
        "\n",
        "# Play filtered audio file\n",
        "filteredWave.play()\n",
        "IPython.display.Audio('sound.wav')"
      ],
      "execution_count": 0,
      "outputs": []
    },
    {
      "metadata": {
        "id": "QjUp96HSXX-c",
        "colab_type": "text"
      },
      "cell_type": "markdown",
      "source": [
        "Challenge:\n",
        "> Try to decrease of increase the amount of \"bass\"\n",
        "> Try to change the change of frequencies that are filtered out\n",
        "> Change the low pass filter to a high pass filter (by switching the comments) and see how it changes\n",
        "\n",
        "Consider this:\n",
        "> Why do you think the high pass filter sounds poorly?\n",
        "\n",
        "*************************************************************************************************************\n",
        "\n",
        "I am assuming you have tried the high pass filter and noticed how bad it sounds.  We will now fix this by adding the filtered sound back into the original sound. "
      ]
    },
    {
      "metadata": {
        "id": "aZ6M3jnhVAfQ",
        "colab_type": "code",
        "colab": {}
      },
      "cell_type": "code",
      "source": [
        "import sys\n",
        "sys.path.insert(0, 'ThinkDSP/code/') \n",
        "import thinkdsp\n",
        "import matplotlib.pyplot as pyplot\n",
        "import IPython\n",
        "\n",
        "# Read in audio file\n",
        "wave = thinkdsp.read_wave('AudioProcessingInPythonWorkshop/test.wav')\n",
        "\n",
        "# Grab first 10 seconds of audio (you can ignore me)\n",
        "clipLength = 10 # in seconds\n",
        "index = 0\n",
        "while (index < wave.ts.size and wave.ts[index] < clipLength):\n",
        "\tindex += 1\n",
        "# Remove extras\n",
        "wave.ts = wave.ts[:index]\n",
        "wave.ys = wave.ys[:index]\n",
        "\n",
        "\n",
        "# Filter\n",
        "spectrum = wave.make_spectrum()\n",
        "spectrum.high_pass(cutoff = 1500, factor = .1) # FIXME - Change back to low pass filter\n",
        "filteredWave = spectrum.make_wave()\n",
        "\n",
        "# Add filtered wave to original wave\n",
        "filteredWave.ys *= 10 # Increase the filtered wave's power so the treble effect is more noticable\n",
        "combinedWave = filteredWave + wave\n",
        "\n",
        "# Plot spectrum of audio file\n",
        "spectrum = wave.make_spectrum()\n",
        "spectrum.plot()\n",
        "pyplot.show()\n",
        "\n",
        "# Play filtered audio file\n",
        "combinedWave.play()\n",
        "IPython.display.Audio('sound.wav')"
      ],
      "execution_count": 0,
      "outputs": []
    }
  ]
}